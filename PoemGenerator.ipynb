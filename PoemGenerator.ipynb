{
 "cells": [
  {
   "cell_type": "code",
   "execution_count": 1,
   "metadata": {},
   "outputs": [],
   "source": [
    "from bs4 import BeautifulSoup\n",
    "import requests\n",
    "\n",
    "from keras.preprocessing.sequence import pad_sequences\n",
    "from keras.layers import Embedding, LSTM, Dense, Dropout\n",
    "from keras.preprocessing.text import Tokenizer\n",
    "from keras.callbacks import EarlyStopping\n",
    "from keras.models import Sequential\n",
    "import keras.utils as ku \n",
    "\n",
    "import pandas as pd\n",
    "import numpy as np\n",
    "import string, os \n",
    "\n",
    "import tensorflow as tf\n",
    "config = tf.compat.v1.ConfigProto()\n",
    "config.gpu_options.allow_growth = True\n",
    "sess = tf.compat.v1.Session(config=config)\n",
    "\n",
    "HEADERS = {'User-Agent': 'Mozilla/5.0 (X11; Linux x86_64) AppleWebKit/537.36 (KHTML, like Gecko) Chrome/47.0.2526.106 Safari/537.36'}\n",
    "SITE_LINK = 'http://www.romanianvoice.com/poezii/poeti/eminescu.php' #where i am getting the poems from\n",
    "ROOT_LINK = 'http://www.romanianvoice.com/poezii' #used later when constructing the link for the poem extractor\n",
    "SPLIT_KEYWORD = 'Mihai Eminescu' #keyword to substring the poems\n"
   ]
  },
  {
   "cell_type": "code",
   "execution_count": 2,
   "metadata": {},
   "outputs": [
    {
     "name": "stdout",
     "output_type": "stream",
     "text": [
      "['http://www.romanianvoice.com/poezii/poezii/adio.php', 'http://www.romanianvoice.com/poezii/poezii/afarai.php', 'http://www.romanianvoice.com/poezii/poezii/marmure.php', 'http://www.romanianvoice.com/poezii/poezii/frageda.php', 'http://www.romanianvoice.com/poezii/poezii/calin.php']\n"
     ]
    }
   ],
   "source": [
    "def get_poem_links(site_link):\n",
    "    poem_links = []\n",
    "    req = requests.get(site_link, headers=HEADERS)\n",
    "    soup = BeautifulSoup(req.content, 'html.parser')\n",
    "    for a in soup.find_all('a', href=True):\n",
    "        \n",
    "        poem_links.append(a['href'].replace('..', ROOT_LINK)) #getting from ../poezii/xxx to a working link\n",
    "    \n",
    "    return poem_links[2:] #first 2 links lead to pages we don't need\n",
    "        \n",
    "poem_links = get_poem_links(SITE_LINK)\n",
    "print(poem_links[:5])"
   ]
  },
  {
   "cell_type": "code",
   "execution_count": 3,
   "metadata": {},
   "outputs": [
    {
     "name": "stderr",
     "output_type": "stream",
     "text": [
      "100%|██████████| 95/95 [01:06<00:00,  1.42it/s]\n"
     ]
    }
   ],
   "source": [
    "from tqdm import tqdm\n",
    "\n",
    "def get_poem(link):\n",
    "    req = requests.get(link, headers=HEADERS)\n",
    "    soup = BeautifulSoup(req.content, 'html.parser')\n",
    "    text = soup.get_text()\n",
    "    \n",
    "    split_text = text.split('\\n')\n",
    "            \n",
    "    return split_text[47:]\n",
    "\n",
    "poem_list = []\n",
    "\n",
    "for poem_link in tqdm(poem_links):\n",
    "    try:\n",
    "        #print(poem_link)\n",
    "        poem_list.extend(get_poem(poem_link))\n",
    "    except:\n",
    "        pass\n"
   ]
  },
  {
   "cell_type": "code",
   "execution_count": 4,
   "metadata": {},
   "outputs": [
    {
     "name": "stdout",
     "output_type": "stream",
     "text": [
      "4666\n",
      "['De-acuma nu te-oi mai vedea,', 'Rămâi, rămâi, cu bine!', 'Mă voi feri în calea mea', 'De tine.', 'De astăzi dar tu fă ce vrei,', 'De astăzi nu-mi mai pasă', 'Că cea mai dulce-ntre femei', 'Mă lasă.', 'Căci nu mai am de obicei', 'Ca-n zilele acele,']\n"
     ]
    }
   ],
   "source": [
    "verses_list = [verse for verse in poem_list if verse != '']\n",
    "print(len(verses_list))\n",
    "print(verses_list[:10])"
   ]
  },
  {
   "cell_type": "code",
   "execution_count": 5,
   "metadata": {},
   "outputs": [
    {
     "name": "stdout",
     "output_type": "stream",
     "text": [
      "['de-acuma nu te-oi mai vedea', 'rămâi rămâi cu bine', 'mă voi feri în calea mea', 'de tine', 'de astăzi dar tu fă ce vrei', 'de astăzi nu imi mai pasă', 'că cea mai dulce intre femei', 'mă lasă', 'căci nu mai am de obicei', 'ca in zilele acele']\n"
     ]
    }
   ],
   "source": [
    "import string\n",
    "\n",
    "def clean_text(text):\n",
    "    text = text.replace('-n',' in').replace('-mi',' imi')\n",
    "    puncts = [',','.','?','!']\n",
    "    #text = text.replace('ă','a').replace('â','a').replace('î','i').replace('ș','s').replace('ț','t').replace('ş','')\n",
    "    text = \"\".join(v for v in text if v not in puncts).lower()\n",
    "    \n",
    "    return text\n",
    "  \n",
    "corpus = [clean_text(x) for x in verses_list]      \n",
    "print(corpus[:10])  \n",
    "  "
   ]
  },
  {
   "cell_type": "code",
   "execution_count": 6,
   "metadata": {},
   "outputs": [
    {
     "data": {
      "text/plain": [
       "[[1, 338],\n",
       " [1, 338, 16],\n",
       " [1, 338, 16, 19],\n",
       " [1, 338, 16, 19, 168],\n",
       " [1, 338, 16, 19, 168, 22],\n",
       " [1, 338, 16, 19, 168, 22, 375],\n",
       " [264, 264],\n",
       " [264, 264, 5],\n",
       " [264, 264, 5, 105],\n",
       " [35, 53]]"
      ]
     },
     "execution_count": 6,
     "metadata": {},
     "output_type": "execute_result"
    }
   ],
   "source": [
    "tokenizer = Tokenizer()\n",
    "\n",
    "def get_token_sequence(corpus):\n",
    "    tokenizer.fit_on_texts(corpus)\n",
    "    total_words = len(tokenizer.word_index)+1\n",
    "    \n",
    "    input_sequences = []\n",
    "    \n",
    "    for line in corpus:\n",
    "        token_list = tokenizer.texts_to_sequences([line])[0]\n",
    "        for i in range(1, len(token_list)):\n",
    "            n_gram_sequence = token_list[:i+1]\n",
    "            input_sequences.append(n_gram_sequence)\n",
    "            \n",
    "    return input_sequences, total_words\n",
    "\n",
    "inp_sequences, total_words = get_token_sequence(corpus)\n",
    "inp_sequences[:10]\n",
    "\n"
   ]
  },
  {
   "cell_type": "code",
   "execution_count": 7,
   "metadata": {},
   "outputs": [
    {
     "name": "stdout",
     "output_type": "stream",
     "text": [
      "[0 0 0 0 0 0 0 0 0 0 0 0 0 0 0 1]\n",
      "17\n"
     ]
    }
   ],
   "source": [
    "def generate_padded_sequences(input_sequences):\n",
    "    max_sequence_len = max([len(x) for x in input_sequences])\n",
    "    input_sequences = np.array(pad_sequences(input_sequences, maxlen=max_sequence_len, padding='pre'))\n",
    "    \n",
    "    predictors, label = input_sequences[:,:-1], input_sequences[:,-1]\n",
    "    label = ku.to_categorical(label, num_classes=total_words)\n",
    "    return predictors, label, max_sequence_len\n",
    "\n",
    "predictors, label, max_sequence_len = generate_padded_sequences(inp_sequences)\n",
    " \n",
    "print(predictors[0])\n",
    "print(max_sequence_len)"
   ]
  },
  {
   "cell_type": "code",
   "execution_count": 8,
   "metadata": {},
   "outputs": [
    {
     "name": "stdout",
     "output_type": "stream",
     "text": [
      "6713\n",
      "Model: \"sequential\"\n",
      "_________________________________________________________________\n",
      "Layer (type)                 Output Shape              Param #   \n",
      "=================================================================\n",
      "embedding (Embedding)        (None, 16, 10)            67130     \n",
      "_________________________________________________________________\n",
      "lstm (LSTM)                  (None, 16, 100)           44400     \n",
      "_________________________________________________________________\n",
      "dropout (Dropout)            (None, 16, 100)           0         \n",
      "_________________________________________________________________\n",
      "lstm_1 (LSTM)                (None, 100)               80400     \n",
      "_________________________________________________________________\n",
      "dropout_1 (Dropout)          (None, 100)               0         \n",
      "_________________________________________________________________\n",
      "dense (Dense)                (None, 6713)              678013    \n",
      "=================================================================\n",
      "Total params: 869,943\n",
      "Trainable params: 869,943\n",
      "Non-trainable params: 0\n",
      "_________________________________________________________________\n"
     ]
    }
   ],
   "source": [
    "def create_model(max_sequence_len, total_words):\n",
    "    input_len = max_sequence_len - 1\n",
    "    model = Sequential()\n",
    "    \n",
    "    model.add(Embedding(total_words, 10, input_length=input_len))\n",
    "    \n",
    "    model.add(LSTM(100, return_sequences=True))\n",
    "    model.add(Dropout(0.3))\n",
    "    \n",
    "    model.add(LSTM(100))\n",
    "    model.add(Dropout(0.3))\n",
    "    \n",
    "    model.add(Dense(total_words, activation='softmax'))\n",
    "    \n",
    "    model.compile(loss='categorical_crossentropy', optimizer='adam')\n",
    "    \n",
    "    return model\n",
    "\n",
    "print(total_words)\n",
    "\n",
    "model = create_model(max_sequence_len, total_words)\n",
    "model.summary()\n"
   ]
  },
  {
   "cell_type": "code",
   "execution_count": 13,
   "metadata": {},
   "outputs": [
    {
     "name": "stdout",
     "output_type": "stream",
     "text": [
      "Epoch 1/100\n",
      "835/835 [==============================] - 4s 5ms/step - loss: 5.8536\n",
      "Epoch 2/100\n",
      "835/835 [==============================] - 4s 5ms/step - loss: 5.7808\n",
      "Epoch 3/100\n",
      "835/835 [==============================] - 4s 5ms/step - loss: 5.7084\n",
      "Epoch 4/100\n",
      "835/835 [==============================] - 4s 5ms/step - loss: 5.6277\n",
      "Epoch 5/100\n",
      "835/835 [==============================] - 4s 5ms/step - loss: 5.5569\n",
      "Epoch 6/100\n",
      "835/835 [==============================] - 4s 5ms/step - loss: 5.4859\n",
      "Epoch 7/100\n",
      "835/835 [==============================] - 4s 5ms/step - loss: 5.4225\n",
      "Epoch 8/100\n",
      "835/835 [==============================] - 4s 5ms/step - loss: 5.3463\n",
      "Epoch 9/100\n",
      "835/835 [==============================] - 4s 5ms/step - loss: 5.2843\n",
      "Epoch 10/100\n",
      "835/835 [==============================] - 4s 5ms/step - loss: 5.2218\n",
      "Epoch 11/100\n",
      "835/835 [==============================] - 4s 5ms/step - loss: 5.1598\n",
      "Epoch 12/100\n",
      "835/835 [==============================] - 4s 5ms/step - loss: 5.0923\n",
      "Epoch 13/100\n",
      "835/835 [==============================] - 4s 5ms/step - loss: 5.0444\n",
      "Epoch 14/100\n",
      "835/835 [==============================] - 4s 5ms/step - loss: 4.9934\n",
      "Epoch 15/100\n",
      "835/835 [==============================] - 4s 5ms/step - loss: 4.9249\n",
      "Epoch 16/100\n",
      "835/835 [==============================] - 4s 5ms/step - loss: 4.8770\n",
      "Epoch 17/100\n",
      "835/835 [==============================] - 4s 5ms/step - loss: 4.8227\n",
      "Epoch 18/100\n",
      "835/835 [==============================] - 4s 5ms/step - loss: 4.7740\n",
      "Epoch 19/100\n",
      "835/835 [==============================] - 4s 4ms/step - loss: 4.7242\n",
      "Epoch 20/100\n",
      "835/835 [==============================] - 3s 4ms/step - loss: 4.6835\n",
      "Epoch 21/100\n",
      "835/835 [==============================] - 4s 4ms/step - loss: 4.6400\n",
      "Epoch 22/100\n",
      "835/835 [==============================] - 4s 5ms/step - loss: 4.5889\n",
      "Epoch 23/100\n",
      "835/835 [==============================] - 5s 6ms/step - loss: 4.5492\n",
      "Epoch 24/100\n",
      "835/835 [==============================] - 5s 6ms/step - loss: 4.5110\n",
      "Epoch 25/100\n",
      "835/835 [==============================] - 5s 5ms/step - loss: 4.4669\n",
      "Epoch 26/100\n",
      "835/835 [==============================] - 5s 6ms/step - loss: 4.4278\n",
      "Epoch 27/100\n",
      "835/835 [==============================] - 5s 5ms/step - loss: 4.3908\n",
      "Epoch 28/100\n",
      "835/835 [==============================] - 5s 5ms/step - loss: 4.3469\n",
      "Epoch 29/100\n",
      "835/835 [==============================] - 5s 6ms/step - loss: 4.3136\n",
      "Epoch 30/100\n",
      "835/835 [==============================] - 5s 6ms/step - loss: 4.2934\n",
      "Epoch 31/100\n",
      "835/835 [==============================] - 4s 5ms/step - loss: 4.2606\n",
      "Epoch 32/100\n",
      "835/835 [==============================] - 5s 5ms/step - loss: 4.2176\n",
      "Epoch 33/100\n",
      "835/835 [==============================] - 4s 5ms/step - loss: 4.1955\n",
      "Epoch 34/100\n",
      "835/835 [==============================] - 4s 5ms/step - loss: 4.1630\n",
      "Epoch 35/100\n",
      "835/835 [==============================] - 4s 5ms/step - loss: 4.1330\n",
      "Epoch 36/100\n",
      "835/835 [==============================] - 4s 5ms/step - loss: 4.1121\n",
      "Epoch 37/100\n",
      "835/835 [==============================] - 4s 5ms/step - loss: 4.0799\n",
      "Epoch 38/100\n",
      "835/835 [==============================] - 4s 5ms/step - loss: 4.0511\n",
      "Epoch 39/100\n",
      "835/835 [==============================] - 4s 5ms/step - loss: 4.0263\n",
      "Epoch 40/100\n",
      "835/835 [==============================] - 4s 5ms/step - loss: 4.0000\n",
      "Epoch 41/100\n",
      "835/835 [==============================] - 4s 5ms/step - loss: 3.9806\n",
      "Epoch 42/100\n",
      "835/835 [==============================] - 4s 5ms/step - loss: 3.9560\n",
      "Epoch 43/100\n",
      "835/835 [==============================] - 4s 5ms/step - loss: 3.9302\n",
      "Epoch 44/100\n",
      "835/835 [==============================] - 4s 5ms/step - loss: 3.9096\n",
      "Epoch 45/100\n",
      "835/835 [==============================] - 4s 5ms/step - loss: 3.8809\n",
      "Epoch 46/100\n",
      "835/835 [==============================] - 4s 5ms/step - loss: 3.8716\n",
      "Epoch 47/100\n",
      "835/835 [==============================] - 4s 5ms/step - loss: 3.8500\n",
      "Epoch 48/100\n",
      "835/835 [==============================] - 4s 4ms/step - loss: 3.8230\n",
      "Epoch 49/100\n",
      "835/835 [==============================] - 4s 4ms/step - loss: 3.8019\n",
      "Epoch 50/100\n",
      "835/835 [==============================] - 4s 4ms/step - loss: 3.7815\n",
      "Epoch 51/100\n",
      "835/835 [==============================] - 4s 4ms/step - loss: 3.7697\n",
      "Epoch 52/100\n",
      "835/835 [==============================] - 4s 4ms/step - loss: 3.7424\n",
      "Epoch 53/100\n",
      "835/835 [==============================] - 4s 4ms/step - loss: 3.7262\n",
      "Epoch 54/100\n",
      "835/835 [==============================] - 4s 4ms/step - loss: 3.7242\n",
      "Epoch 55/100\n",
      "835/835 [==============================] - 4s 4ms/step - loss: 3.6989\n",
      "Epoch 56/100\n",
      "835/835 [==============================] - 4s 4ms/step - loss: 3.6869\n",
      "Epoch 57/100\n",
      "835/835 [==============================] - 4s 4ms/step - loss: 3.6739\n",
      "Epoch 58/100\n",
      "835/835 [==============================] - 4s 4ms/step - loss: 3.6499\n",
      "Epoch 59/100\n",
      "835/835 [==============================] - 4s 4ms/step - loss: 3.6365\n",
      "Epoch 60/100\n",
      "835/835 [==============================] - 4s 4ms/step - loss: 3.6204\n",
      "Epoch 61/100\n",
      "835/835 [==============================] - 4s 4ms/step - loss: 3.6037\n",
      "Epoch 62/100\n",
      "835/835 [==============================] - 4s 4ms/step - loss: 3.5991\n",
      "Epoch 63/100\n",
      "835/835 [==============================] - 4s 4ms/step - loss: 3.5768\n",
      "Epoch 64/100\n",
      "835/835 [==============================] - 4s 4ms/step - loss: 3.5472\n",
      "Epoch 65/100\n",
      "835/835 [==============================] - 4s 4ms/step - loss: 3.5565\n",
      "Epoch 66/100\n",
      "835/835 [==============================] - 4s 4ms/step - loss: 3.5221\n",
      "Epoch 67/100\n",
      "835/835 [==============================] - 4s 4ms/step - loss: 3.5223\n",
      "Epoch 68/100\n",
      "835/835 [==============================] - 4s 4ms/step - loss: 3.4969\n",
      "Epoch 69/100\n",
      "835/835 [==============================] - 4s 4ms/step - loss: 3.4864\n",
      "Epoch 70/100\n",
      "835/835 [==============================] - 3s 4ms/step - loss: 3.4692\n",
      "Epoch 71/100\n",
      "835/835 [==============================] - 4s 4ms/step - loss: 3.4763\n",
      "Epoch 72/100\n",
      "835/835 [==============================] - 4s 4ms/step - loss: 3.4503\n",
      "Epoch 73/100\n",
      "835/835 [==============================] - 4s 4ms/step - loss: 3.4516\n",
      "Epoch 74/100\n",
      "835/835 [==============================] - 4s 4ms/step - loss: 3.4279\n",
      "Epoch 75/100\n",
      "835/835 [==============================] - 4s 4ms/step - loss: 3.4206\n",
      "Epoch 76/100\n",
      "835/835 [==============================] - 4s 4ms/step - loss: 3.4006\n",
      "Epoch 77/100\n",
      "835/835 [==============================] - 4s 4ms/step - loss: 3.3930\n",
      "Epoch 78/100\n",
      "835/835 [==============================] - 4s 4ms/step - loss: 3.3870\n",
      "Epoch 79/100\n",
      "835/835 [==============================] - 4s 4ms/step - loss: 3.3762\n",
      "Epoch 80/100\n",
      "835/835 [==============================] - 4s 4ms/step - loss: 3.3630\n",
      "Epoch 81/100\n",
      "835/835 [==============================] - 4s 4ms/step - loss: 3.3502\n",
      "Epoch 82/100\n",
      "835/835 [==============================] - 4s 4ms/step - loss: 3.3359\n",
      "Epoch 83/100\n",
      "835/835 [==============================] - 4s 5ms/step - loss: 3.3253\n",
      "Epoch 84/100\n",
      "835/835 [==============================] - 4s 5ms/step - loss: 3.3118\n",
      "Epoch 85/100\n",
      "835/835 [==============================] - 4s 5ms/step - loss: 3.2974\n",
      "Epoch 86/100\n",
      "835/835 [==============================] - 4s 5ms/step - loss: 3.3006\n",
      "Epoch 87/100\n",
      "835/835 [==============================] - 4s 5ms/step - loss: 3.2814\n",
      "Epoch 88/100\n",
      "835/835 [==============================] - 4s 5ms/step - loss: 3.2764\n",
      "Epoch 89/100\n",
      "835/835 [==============================] - 4s 5ms/step - loss: 3.2819\n",
      "Epoch 90/100\n",
      "835/835 [==============================] - 4s 5ms/step - loss: 3.2587\n",
      "Epoch 91/100\n",
      "835/835 [==============================] - 4s 5ms/step - loss: 3.2561\n",
      "Epoch 92/100\n",
      "835/835 [==============================] - 4s 5ms/step - loss: 3.2363\n",
      "Epoch 93/100\n",
      "835/835 [==============================] - 4s 5ms/step - loss: 3.2230\n",
      "Epoch 94/100\n",
      "835/835 [==============================] - 4s 5ms/step - loss: 3.2098\n",
      "Epoch 95/100\n",
      "835/835 [==============================] - 4s 5ms/step - loss: 3.2138\n",
      "Epoch 96/100\n",
      "835/835 [==============================] - 4s 4ms/step - loss: 3.2091\n",
      "Epoch 97/100\n",
      "835/835 [==============================] - 4s 5ms/step - loss: 3.1961\n",
      "Epoch 98/100\n",
      "835/835 [==============================] - 4s 5ms/step - loss: 3.1785\n",
      "Epoch 99/100\n"
     ]
    },
    {
     "name": "stdout",
     "output_type": "stream",
     "text": [
      "835/835 [==============================] - 4s 5ms/step - loss: 3.1835\n",
      "Epoch 100/100\n",
      "835/835 [==============================] - 4s 5ms/step - loss: 3.1637\n"
     ]
    }
   ],
   "source": [
    "history = model.fit(predictors, label, epochs=100)"
   ]
  },
  {
   "cell_type": "code",
   "execution_count": 14,
   "metadata": {},
   "outputs": [],
   "source": [
    "def generate_text(seed_text, next_words, model, max_sequence_len):\n",
    "    for _ in range(next_words):\n",
    "        token_list = tokenizer.texts_to_sequences([seed_text])[0]\n",
    "        token_list = pad_sequences([token_list], maxlen=max_sequence_len-1, padding='pre')\n",
    "        predicted = model.predict_classes(token_list, verbose=0)\n",
    "        print(predicted)\n",
    "        \n",
    "        output_word = \"\"\n",
    "        for word, index in tokenizer.word_index.items():\n",
    "            if index == predicted:\n",
    "                output_word = word\n",
    "                break\n",
    "        seed_text += \" \"+output_word\n",
    "    return seed_text"
   ]
  },
  {
   "cell_type": "code",
   "execution_count": 17,
   "metadata": {},
   "outputs": [
    {
     "name": "stdout",
     "output_type": "stream",
     "text": [
      "[16]\n",
      "[22]\n",
      "[841]\n",
      "[1]\n",
      "[182]\n",
      "[24]\n",
      "[16]\n",
      "[22]\n",
      "[255]\n",
      "[1315]\n"
     ]
    },
    {
     "data": {
      "text/plain": [
       "'eu nu mai şti de mine că nu mai plânge cuvântul'"
      ]
     },
     "execution_count": 17,
     "metadata": {},
     "output_type": "execute_result"
    }
   ],
   "source": [
    "generate_text(seed_text = \"eu\", next_words = 10,model = model,max_sequence_len = max_sequence_len)"
   ]
  },
  {
   "cell_type": "code",
   "execution_count": 59,
   "metadata": {},
   "outputs": [
    {
     "name": "stdout",
     "output_type": "stream",
     "text": [
      "3489.8804537772817\n"
     ]
    }
   ],
   "source": [
    "sum = 200\n",
    "for i in range(30):\n",
    "    sum+=sum/10\n",
    "    \n",
    "print(sum)"
   ]
  },
  {
   "cell_type": "code",
   "execution_count": null,
   "metadata": {},
   "outputs": [],
   "source": []
  }
 ],
 "metadata": {
  "kernelspec": {
   "display_name": "Python 3",
   "language": "python",
   "name": "python3"
  },
  "language_info": {
   "codemirror_mode": {
    "name": "ipython",
    "version": 3
   },
   "file_extension": ".py",
   "mimetype": "text/x-python",
   "name": "python",
   "nbconvert_exporter": "python",
   "pygments_lexer": "ipython3",
   "version": "3.8.3"
  }
 },
 "nbformat": 4,
 "nbformat_minor": 4
}
